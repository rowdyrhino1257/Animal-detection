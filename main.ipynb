{
 "cells": [
  {
   "cell_type": "code",
   "execution_count": 2,
   "id": "1f70ce6b",
   "metadata": {},
   "outputs": [
    {
     "name": "stdout",
     "output_type": "stream",
     "text": [
      "Error: Unable to read frame from the camera.\n"
     ]
    },
    {
     "ename": "error",
     "evalue": "OpenCV(4.9.0) D:\\a\\opencv-python\\opencv-python\\opencv\\modules\\highgui\\src\\window.cpp:1266: error: (-2:Unspecified error) The function is not implemented. Rebuild the library with Windows, GTK+ 2.x or Cocoa support. If you are on Ubuntu or Debian, install libgtk2.0-dev and pkg-config, then re-run cmake or configure script in function 'cvDestroyAllWindows'\n",
     "output_type": "error",
     "traceback": [
      "\u001b[1;31m---------------------------------------------------------------------------\u001b[0m",
      "\u001b[1;31merror\u001b[0m                                     Traceback (most recent call last)",
      "Cell \u001b[1;32mIn[2], line 74\u001b[0m\n\u001b[0;32m     70\u001b[0m     video\u001b[38;5;241m.\u001b[39mrelease()\n\u001b[0;32m     71\u001b[0m     cv2\u001b[38;5;241m.\u001b[39mdestroyAllWindows()\n\u001b[1;32m---> 74\u001b[0m startapplication()\n",
      "Cell \u001b[1;32mIn[2], line 71\u001b[0m, in \u001b[0;36mstartapplication\u001b[1;34m()\u001b[0m\n\u001b[0;32m     68\u001b[0m         \u001b[38;5;28;01mbreak\u001b[39;00m\n\u001b[0;32m     70\u001b[0m video\u001b[38;5;241m.\u001b[39mrelease()\n\u001b[1;32m---> 71\u001b[0m cv2\u001b[38;5;241m.\u001b[39mdestroyAllWindows()\n",
      "\u001b[1;31merror\u001b[0m: OpenCV(4.9.0) D:\\a\\opencv-python\\opencv-python\\opencv\\modules\\highgui\\src\\window.cpp:1266: error: (-2:Unspecified error) The function is not implemented. Rebuild the library with Windows, GTK+ 2.x or Cocoa support. If you are on Ubuntu or Debian, install libgtk2.0-dev and pkg-config, then re-run cmake or configure script in function 'cvDestroyAllWindows'\n"
     ]
    }
   ],
   "source": [
    "import tensorflow as tf \n",
    "from tensorflow.keras.models import load_model\n",
    "import numpy as np\n",
    "from keras.preprocessing import image\n",
    "import cv2\n",
    "import numpy as np\n",
    "import os\n",
    "from pygame import mixer\n",
    "import serial\n",
    "from tensorflow.keras.models import model_from_json\n",
    "import numpy as np\n",
    "from cvzone.FaceDetectionModule import FaceDetector\n",
    "import pyfirmata\n",
    "\n",
    " \n",
    "class DetectionModel(object):\n",
    "\n",
    "    class_nums = [\"Cheeta\", \"Elephant\", \"Lion\",\"Normal\",\"Tiger\"]\n",
    "\n",
    "    def __init__(self, model_json_file, model_weights_file):\n",
    "        with open(model_json_file, \"r\") as json_file:\n",
    "            loaded_model_json = json_file.read()\n",
    "            self.loaded_model = model_from_json(loaded_model_json)\n",
    "\n",
    "        self.loaded_model.load_weights(model_weights_file)\n",
    "        self.loaded_model.make_predict_function()\n",
    "\n",
    "    def predict(self, img):\n",
    "        self.preds = self.loaded_model.predict(img)\n",
    "        return DetectionModel.class_nums[np.argmax(self.preds)], self.preds\n",
    "\n",
    "model = DetectionModel(\"model.json\", 'model_weights.keras')\n",
    "font = cv2.FONT_HERSHEY_SIMPLEX\n",
    "\n",
    "detector = FaceDetector()\n",
    "servoPos = [90, 90] # initial servo position\n",
    "\n",
    "def startapplication():\n",
    "    video = cv2.VideoCapture(0) \n",
    "    while True:\n",
    "        ret, frame = video.read()\n",
    "        if not ret or frame is None:\n",
    "            print(\"Error: Unable to read frame from the camera.\")\n",
    "            break\n",
    "        gray_frame = cv2.cvtColor(frame, cv2.COLOR_BGR2RGB)\n",
    "        roi = cv2.resize(gray_frame, (224, 224))\n",
    "\n",
    "        pred, prob = model.predict(roi[np.newaxis, :, :])\n",
    "        prob = (round(prob[0][0]*100, 2))  \n",
    "        print(pred)\n",
    "        if pred == 'Normal':\n",
    "            pass\n",
    "        else:\n",
    "            print(\"data move to hardware\")\n",
    "            \n",
    "\n",
    "        cv2.rectangle(frame, (0, 0), (280, 40), (0,0, 0), -1)\n",
    "        cv2.putText(frame, pred+\" \"+str(prob), (20, 30), font, 1, (255, 255, 0), 2)\n",
    "        \n",
    "        cv2.imshow('Video', frame)\n",
    "\n",
    "        if cv2.waitKey(33) & 0xFF == ord('q'):\n",
    "            break\n",
    "    \n",
    "    video.release()\n",
    "    cv2.destroyAllWindows()\n",
    "\n",
    "\n",
    "startapplication()"
   ]
  },
  {
   "cell_type": "code",
   "execution_count": null,
   "id": "cb727efb",
   "metadata": {},
   "outputs": [],
   "source": []
  }
 ],
 "metadata": {
  "kernelspec": {
   "display_name": "Python 3 (ipykernel)",
   "language": "python",
   "name": "python3"
  },
  "language_info": {
   "codemirror_mode": {
    "name": "ipython",
    "version": 3
   },
   "file_extension": ".py",
   "mimetype": "text/x-python",
   "name": "python",
   "nbconvert_exporter": "python",
   "pygments_lexer": "ipython3",
   "version": "3.11.5"
  }
 },
 "nbformat": 4,
 "nbformat_minor": 5
}
